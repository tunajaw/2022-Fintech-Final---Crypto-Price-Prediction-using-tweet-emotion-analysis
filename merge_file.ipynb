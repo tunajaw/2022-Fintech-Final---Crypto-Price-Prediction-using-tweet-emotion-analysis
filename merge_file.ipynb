{
 "cells": [
  {
   "cell_type": "code",
   "execution_count": 1,
   "metadata": {},
   "outputs": [],
   "source": [
    "import os\n",
    "import csv\n",
    "import pandas as pd"
   ]
  },
  {
   "cell_type": "code",
   "execution_count": 2,
   "metadata": {},
   "outputs": [
    {
     "name": "stdout",
     "output_type": "stream",
     "text": [
      "c:\\Users\\User\\Desktop\\Prediction_using_tweet_emotion\\2022-Fintech-Final---Crypto-Price-Prediction-using-tweet-emotion-analysis\\coin_data\n"
     ]
    }
   ],
   "source": [
    "os.chdir(\"c:/Users/User/Desktop/Prediction_using_tweet_emotion/2022-Fintech-Final---Crypto-Price-Prediction-using-tweet-emotion-analysis/coin_data\")\n",
    "print(os.getcwd())\n",
    "btcd_data = pd.read_csv(\"Bitcoin_d.csv\")"
   ]
  },
  {
   "cell_type": "code",
   "execution_count": 3,
   "metadata": {},
   "outputs": [
    {
     "data": {
      "text/html": [
       "<div>\n",
       "<style scoped>\n",
       "    .dataframe tbody tr th:only-of-type {\n",
       "        vertical-align: middle;\n",
       "    }\n",
       "\n",
       "    .dataframe tbody tr th {\n",
       "        vertical-align: top;\n",
       "    }\n",
       "\n",
       "    .dataframe thead th {\n",
       "        text-align: right;\n",
       "    }\n",
       "</style>\n",
       "<table border=\"1\" class=\"dataframe\">\n",
       "  <thead>\n",
       "    <tr style=\"text-align: right;\">\n",
       "      <th></th>\n",
       "      <th>Date</th>\n",
       "      <th>market_caps</th>\n",
       "      <th>BTCD</th>\n",
       "    </tr>\n",
       "  </thead>\n",
       "  <tbody>\n",
       "    <tr>\n",
       "      <th>0</th>\n",
       "      <td>2022-01-01 08:00:00</td>\n",
       "      <td>8.761929e+11</td>\n",
       "      <td>39.750648</td>\n",
       "    </tr>\n",
       "    <tr>\n",
       "      <th>1</th>\n",
       "      <td>2022-01-02 08:00:00</td>\n",
       "      <td>9.045519e+11</td>\n",
       "      <td>39.853542</td>\n",
       "    </tr>\n",
       "    <tr>\n",
       "      <th>2</th>\n",
       "      <td>2022-01-03 08:00:00</td>\n",
       "      <td>8.975361e+11</td>\n",
       "      <td>39.439140</td>\n",
       "    </tr>\n",
       "    <tr>\n",
       "      <th>3</th>\n",
       "      <td>2022-01-04 08:00:00</td>\n",
       "      <td>8.803302e+11</td>\n",
       "      <td>39.284927</td>\n",
       "    </tr>\n",
       "    <tr>\n",
       "      <th>4</th>\n",
       "      <td>2022-01-05 08:00:00</td>\n",
       "      <td>8.762427e+11</td>\n",
       "      <td>39.091666</td>\n",
       "    </tr>\n",
       "    <tr>\n",
       "      <th>...</th>\n",
       "      <td>...</td>\n",
       "      <td>...</td>\n",
       "      <td>...</td>\n",
       "    </tr>\n",
       "    <tr>\n",
       "      <th>329</th>\n",
       "      <td>2022-11-26 08:00:00</td>\n",
       "      <td>3.179199e+11</td>\n",
       "      <td>37.536004</td>\n",
       "    </tr>\n",
       "    <tr>\n",
       "      <th>330</th>\n",
       "      <td>2022-11-27 08:00:00</td>\n",
       "      <td>3.162069e+11</td>\n",
       "      <td>37.317930</td>\n",
       "    </tr>\n",
       "    <tr>\n",
       "      <th>331</th>\n",
       "      <td>2022-11-28 08:00:00</td>\n",
       "      <td>3.164877e+11</td>\n",
       "      <td>37.300611</td>\n",
       "    </tr>\n",
       "    <tr>\n",
       "      <th>332</th>\n",
       "      <td>2022-11-29 08:00:00</td>\n",
       "      <td>3.118110e+11</td>\n",
       "      <td>37.472105</td>\n",
       "    </tr>\n",
       "    <tr>\n",
       "      <th>333</th>\n",
       "      <td>2022-11-30 08:00:00</td>\n",
       "      <td>3.161709e+11</td>\n",
       "      <td>37.357481</td>\n",
       "    </tr>\n",
       "  </tbody>\n",
       "</table>\n",
       "<p>334 rows × 3 columns</p>\n",
       "</div>"
      ],
      "text/plain": [
       "                    Date   market_caps       BTCD\n",
       "0    2022-01-01 08:00:00  8.761929e+11  39.750648\n",
       "1    2022-01-02 08:00:00  9.045519e+11  39.853542\n",
       "2    2022-01-03 08:00:00  8.975361e+11  39.439140\n",
       "3    2022-01-04 08:00:00  8.803302e+11  39.284927\n",
       "4    2022-01-05 08:00:00  8.762427e+11  39.091666\n",
       "..                   ...           ...        ...\n",
       "329  2022-11-26 08:00:00  3.179199e+11  37.536004\n",
       "330  2022-11-27 08:00:00  3.162069e+11  37.317930\n",
       "331  2022-11-28 08:00:00  3.164877e+11  37.300611\n",
       "332  2022-11-29 08:00:00  3.118110e+11  37.472105\n",
       "333  2022-11-30 08:00:00  3.161709e+11  37.357481\n",
       "\n",
       "[334 rows x 3 columns]"
      ]
     },
     "execution_count": 3,
     "metadata": {},
     "output_type": "execute_result"
    }
   ],
   "source": [
    "btcd_data = btcd_data.rename(columns={\"Unnamed: 0\" : \"Date\"})\n",
    "btcd_data"
   ]
  },
  {
   "cell_type": "code",
   "execution_count": 21,
   "metadata": {},
   "outputs": [
    {
     "name": "stdout",
     "output_type": "stream",
     "text": [
      "c:\\Users\\User\\Desktop\\Prediction_using_tweet_emotion\\2022-Fintech-Final---Crypto-Price-Prediction-using-tweet-emotion-analysis\\emotion_data\n"
     ]
    }
   ],
   "source": [
    "os.chdir(\"c:/Users/User/Desktop/Prediction_using_tweet_emotion/2022-Fintech-Final---Crypto-Price-Prediction-using-tweet-emotion-analysis/emotion_data\")\n",
    "print(os.getcwd())"
   ]
  },
  {
   "cell_type": "code",
   "execution_count": 7,
   "metadata": {},
   "outputs": [],
   "source": [
    "def merge_data(btcd, month):\n",
    "    emo_data = pd.read_csv(str(month) + \".csv\")\n",
    "    emo_data_merge = emo_data.drop(columns = \"Unnamed: 0\")\n",
    "    if(month <= 9):\n",
    "        cap_data = btcd_data.loc[btcd_data[\"Date\"].apply(lambda x: (x >= (\"2022-0\"+str(month) +\"-01 08:00:00\")) and (x <= (\"2022-0\"+str(month) +\"-30 08:00:00\")))]\n",
    "    else :\n",
    "        cap_data = btcd_data.loc[btcd_data[\"Date\"].apply(lambda x: (x >= (\"2022-\"+str(month) +\"-01 08:00:00\")) and (x <= (\"2022-\"+str(month) +\"-30 08:00:00\")))]\n",
    "    emo_data_merge[\"market_caps\"] = cap_data[\"market_caps\"].values\n",
    "    emo_data_merge[\"BTCD\"] = cap_data[\"BTCD\"].values\n",
    "    return emo_data_merge"
   ]
  },
  {
   "cell_type": "code",
   "execution_count": 22,
   "metadata": {},
   "outputs": [],
   "source": [
    "month = 11\n",
    "merge = merge_data(btcd_data, month)"
   ]
  },
  {
   "cell_type": "code",
   "execution_count": 23,
   "metadata": {},
   "outputs": [
    {
     "name": "stdout",
     "output_type": "stream",
     "text": [
      "c:\\Users\\User\\Desktop\\Prediction_using_tweet_emotion\\2022-Fintech-Final---Crypto-Price-Prediction-using-tweet-emotion-analysis\\btcd_emo_merge_data\n"
     ]
    }
   ],
   "source": [
    "os.chdir(\"c:/Users/User/Desktop/Prediction_using_tweet_emotion/2022-Fintech-Final---Crypto-Price-Prediction-using-tweet-emotion-analysis/btcd_emo_merge_data\")\n",
    "print(os.getcwd())"
   ]
  },
  {
   "cell_type": "code",
   "execution_count": 24,
   "metadata": {},
   "outputs": [],
   "source": [
    "filepath = \"c:/Users/User/Desktop/Prediction_using_tweet_emotion/2022-Fintech-Final---Crypto-Price-Prediction-using-tweet-emotion-analysis/btcd_emo_merge_data\"\n",
    "merge.to_csv('merge'+str(month)+\".csv\", index = False)"
   ]
  }
 ],
 "metadata": {
  "kernelspec": {
   "display_name": "Python 3",
   "language": "python",
   "name": "python3"
  },
  "language_info": {
   "codemirror_mode": {
    "name": "ipython",
    "version": 3
   },
   "file_extension": ".py",
   "mimetype": "text/x-python",
   "name": "python",
   "nbconvert_exporter": "python",
   "pygments_lexer": "ipython3",
   "version": "3.10.2"
  },
  "orig_nbformat": 4,
  "vscode": {
   "interpreter": {
    "hash": "369f2c481f4da34e4445cda3fffd2e751bd1c4d706f27375911949ba6bb62e1c"
   }
  }
 },
 "nbformat": 4,
 "nbformat_minor": 2
}
