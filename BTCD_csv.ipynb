{
 "cells": [
  {
   "cell_type": "code",
   "execution_count": 39,
   "metadata": {},
   "outputs": [],
   "source": [
    "import csv\n",
    "import json\n",
    "import time\n",
    "import datetime\n",
    "import pandas as pd\n",
    "from tqdm import tqdm\n",
    "import itertools\n",
    "\n",
    "import requests\n"
   ]
  },
  {
   "attachments": {},
   "cell_type": "markdown",
   "metadata": {},
   "source": [
    "### get top 250 coins' id"
   ]
  },
  {
   "cell_type": "code",
   "execution_count": 40,
   "metadata": {},
   "outputs": [
    {
     "name": "stdout",
     "output_type": "stream",
     "text": [
      "bitcoin\n",
      "ethereum\n",
      "tether\n"
     ]
    }
   ],
   "source": [
    "#gets data from coingecko\n",
    "response = requests.get('https://api.coingecko.com/api/v3/coins/markets?vs_currency=usd&order=market_cap_desc&per_page=250&page=1&sparkline=false')\n",
    "response = response.json()\n",
    "\n",
    "coin_list = []\n",
    "for coin in response:\n",
    "    coin_list.append({'id':coin['id'], 'symbol':coin['symbol'], 'name':coin['name']})\n",
    "\n",
    "for c in coin_list[:3]:\n",
    "    print(c['id'])\n"
   ]
  },
  {
   "cell_type": "code",
   "execution_count": 47,
   "metadata": {},
   "outputs": [
    {
     "name": "stdout",
     "output_type": "stream",
     "text": [
      "{'id': 'binancecoin', 'symbol': 'bnb', 'name': 'BNB'}\n"
     ]
    }
   ],
   "source": [
    "print(coin_list[4])"
   ]
  },
  {
   "cell_type": "code",
   "execution_count": 59,
   "metadata": {},
   "outputs": [],
   "source": [
    "def date_to_unix_time(date, spliter='-'):\n",
    "    ymd = date.split(spliter)\n",
    "    my_datetime = datetime.date(int(ymd[0]), int(ymd[1]), int(ymd[2]))\n",
    "    return int(time.mktime(my_datetime.timetuple()))\n",
    "\n",
    "'''\n",
    "1 day from current time = 5 minute interval data\n",
    "1 ~ 90 days from current time = hourly data\n",
    "above 90 days from current time = daily data (00:00 UTC)\n",
    "'''\n",
    "start_date = '2022-01-01'\n",
    "end_date = \"2022-12-01\"\n",
    "\n",
    "def get_one_coin_json(coin_id, _from, _to):\n",
    "    response = requests.get('https://api.coingecko.com/api/v3/coins/' + coin_id + '/market_chart/range?vs_currency=usd&from='+ _from + '&to=' + _to)\n",
    "    return response.json()\n",
    "\n",
    "def wait_api(times=1):\n",
    "    sec = 60\n",
    "    for i in range(sec+1):\n",
    "        print('waiting API({})....  ({:d}s)'.format(times, sec - i), end=\"\\r\")\n",
    "        time.sleep(1)"
   ]
  },
  {
   "attachments": {},
   "cell_type": "markdown",
   "metadata": {},
   "source": [
    "### get price, market_caps, volume of all coins\n",
    "\n",
    "\n",
    "> every 5 api calls needs 1 minute break in free version <br>\n",
    "> 250 coins need ~50 minutes\n"
   ]
  },
  {
   "cell_type": "code",
   "execution_count": 53,
   "metadata": {},
   "outputs": [
    {
     "name": "stdout",
     "output_type": "stream",
     "text": [
      "downloading:\n"
     ]
    },
    {
     "name": "stderr",
     "output_type": "stream",
     "text": [
      "  2%|▏         | 5/250 [00:02<02:51,  1.43it/s]"
     ]
    },
    {
     "name": "stdout",
     "output_type": "stream",
     "text": [
      "waiting API(1)....  (52s)"
     ]
    },
    {
     "name": "stderr",
     "output_type": "stream",
     "text": [
      "  2%|▏         | 5/250 [00:11<09:46,  2.40s/it]\n"
     ]
    },
    {
     "ename": "KeyboardInterrupt",
     "evalue": "",
     "output_type": "error",
     "traceback": [
      "\u001b[1;31m---------------------------------------------------------------------------\u001b[0m",
      "\u001b[1;31mKeyboardInterrupt\u001b[0m                         Traceback (most recent call last)",
      "\u001b[1;32m~\\AppData\\Local\\Temp/ipykernel_1116/115407989.py\u001b[0m in \u001b[0;36m<module>\u001b[1;34m\u001b[0m\n\u001b[0;32m     21\u001b[0m             \u001b[1;32mraise\u001b[0m \u001b[0mException\u001b[0m\u001b[1;33m(\u001b[0m\u001b[1;34m\"Retry Limit Exceeded! Check https://status.coingecko.com/ for API Status\"\u001b[0m\u001b[1;33m)\u001b[0m\u001b[1;33m\u001b[0m\u001b[1;33m\u001b[0m\u001b[0m\n\u001b[0;32m     22\u001b[0m         \u001b[0mretry_times\u001b[0m \u001b[1;33m+=\u001b[0m \u001b[1;36m1\u001b[0m\u001b[1;33m\u001b[0m\u001b[1;33m\u001b[0m\u001b[0m\n\u001b[1;32m---> 23\u001b[1;33m         \u001b[0mwait_api\u001b[0m\u001b[1;33m(\u001b[0m\u001b[0mretry_times\u001b[0m\u001b[1;33m)\u001b[0m\u001b[1;33m\u001b[0m\u001b[1;33m\u001b[0m\u001b[0m\n\u001b[0m\u001b[0;32m     24\u001b[0m         \u001b[0mdata\u001b[0m \u001b[1;33m=\u001b[0m \u001b[0mget_one_coin_json\u001b[0m\u001b[1;33m(\u001b[0m\u001b[0mcoin\u001b[0m\u001b[1;33m[\u001b[0m\u001b[1;34m'id'\u001b[0m\u001b[1;33m]\u001b[0m\u001b[1;33m,\u001b[0m \u001b[0mstr\u001b[0m\u001b[1;33m(\u001b[0m\u001b[0mdate_to_unix_time\u001b[0m\u001b[1;33m(\u001b[0m\u001b[0mstart_date\u001b[0m\u001b[1;33m)\u001b[0m\u001b[1;33m)\u001b[0m\u001b[1;33m,\u001b[0m \u001b[0mstr\u001b[0m\u001b[1;33m(\u001b[0m\u001b[0mdate_to_unix_time\u001b[0m\u001b[1;33m(\u001b[0m\u001b[0mend_date\u001b[0m\u001b[1;33m)\u001b[0m\u001b[1;33m)\u001b[0m\u001b[1;33m)\u001b[0m\u001b[1;33m\u001b[0m\u001b[1;33m\u001b[0m\u001b[0m\n\u001b[0;32m     25\u001b[0m \u001b[1;33m\u001b[0m\u001b[0m\n",
      "\u001b[1;32m~\\AppData\\Local\\Temp/ipykernel_1116/4059953307.py\u001b[0m in \u001b[0;36mwait_api\u001b[1;34m(times)\u001b[0m\n\u001b[0;32m     20\u001b[0m     \u001b[1;32mfor\u001b[0m \u001b[0mi\u001b[0m \u001b[1;32min\u001b[0m \u001b[0mrange\u001b[0m\u001b[1;33m(\u001b[0m\u001b[0msec\u001b[0m\u001b[1;33m+\u001b[0m\u001b[1;36m1\u001b[0m\u001b[1;33m)\u001b[0m\u001b[1;33m:\u001b[0m\u001b[1;33m\u001b[0m\u001b[1;33m\u001b[0m\u001b[0m\n\u001b[0;32m     21\u001b[0m         \u001b[0mprint\u001b[0m\u001b[1;33m(\u001b[0m\u001b[1;34m'\\rwaiting API({})....  ({:d}s)'\u001b[0m\u001b[1;33m.\u001b[0m\u001b[0mformat\u001b[0m\u001b[1;33m(\u001b[0m\u001b[0mtimes\u001b[0m\u001b[1;33m,\u001b[0m \u001b[0msec\u001b[0m \u001b[1;33m-\u001b[0m \u001b[0mi\u001b[0m\u001b[1;33m)\u001b[0m\u001b[1;33m,\u001b[0m \u001b[0mend\u001b[0m\u001b[1;33m=\u001b[0m\u001b[1;34m\"\"\u001b[0m\u001b[1;33m)\u001b[0m\u001b[1;33m\u001b[0m\u001b[1;33m\u001b[0m\u001b[0m\n\u001b[1;32m---> 22\u001b[1;33m         \u001b[0mtime\u001b[0m\u001b[1;33m.\u001b[0m\u001b[0msleep\u001b[0m\u001b[1;33m(\u001b[0m\u001b[1;36m1\u001b[0m\u001b[1;33m)\u001b[0m\u001b[1;33m\u001b[0m\u001b[1;33m\u001b[0m\u001b[0m\n\u001b[0m",
      "\u001b[1;31mKeyboardInterrupt\u001b[0m: "
     ]
    }
   ],
   "source": [
    "#get all coins data\n",
    "\n",
    "alt_caps_data = []\n",
    "btc_data = {}\n",
    "date_list = []\n",
    "\n",
    "api_limit = 50\n",
    "retry_limit = 3\n",
    "count = 1\n",
    "\n",
    "print('downloading:')\n",
    "for idx, coin in tqdm(enumerate(coin_list), total=len(coin_list)):\n",
    "    if((idx + 1) / api_limit >= count):\n",
    "        count += 1\n",
    "        wait_api()\n",
    "     \n",
    "    data = get_one_coin_json(coin['id'], str(date_to_unix_time(start_date)), str(date_to_unix_time(end_date))) \n",
    "    retry_times = 0\n",
    "    while 'market_caps' not in data:\n",
    "        if retry_times >= retry_limit:\n",
    "            raise Exception(\"Retry Limit Exceeded! Check https://status.coingecko.com/ for API Status\")\n",
    "        retry_times += 1\n",
    "        wait_api(retry_times)\n",
    "        data = get_one_coin_json(coin['id'], str(date_to_unix_time(start_date)), str(date_to_unix_time(end_date))) \n",
    "\n",
    "    if(coin['id'] != 'bitcoin'):   \n",
    "        alt_caps_data.append([mc[1] for mc in data['market_caps']])\n",
    "    else:\n",
    "        def append_date_list_and_return_num(li):\n",
    "            # https://stackoverflow.com/questions/9744775/how-to-convert-integer-timestamp-into-a-datetime\n",
    "            date_list.append(datetime.datetime.fromtimestamp(li[0] / 1e3))\n",
    "            return li[1]\n",
    "        btc_data['prices'] = [append_date_list_and_return_num(d) for d in data['prices']]\n",
    "        btc_data['market_caps'] = [d[1] for d in data['market_caps']]\n",
    "        btc_data['total_volumes'] = [d[1] for d in data['total_volumes']]\n",
    "        \n",
    "    # dflist = pd.DataFrame({'prices', 'market_caps', 'total_volumes'})\n",
    "    '''\n",
    "    {\n",
    "        \"prices\": [\n",
    "        [\n",
    "        1641600000000,\n",
    "        3201.79457434796\n",
    "        ],\n",
    "        [\n",
    "        1641686400000,\n",
    "        3101.0409016141402\n",
    "        ],\n",
    "    }\n",
    "    '''\n",
    "\n"
   ]
  },
  {
   "attachments": {},
   "cell_type": "markdown",
   "metadata": {},
   "source": [
    "### process data and save to csv"
   ]
  },
  {
   "cell_type": "code",
   "execution_count": null,
   "metadata": {},
   "outputs": [
    {
     "name": "stdout",
     "output_type": "stream",
     "text": [
      "                           prices   market_caps  total_volumes       BTCD\n",
      "2022-01-01 08:00:00  46319.651088  8.761929e+11   2.589535e+10  62.837424\n",
      "2022-01-02 08:00:00  47816.077676  9.045519e+11   1.890459e+10  63.117007\n",
      "2022-01-03 08:00:00  47387.212168  8.975361e+11   3.375613e+10  62.639053\n",
      "2022-01-04 08:00:00  46531.140861  8.803302e+11   2.189002e+10  62.553306\n",
      "2022-01-05 08:00:00  45938.024272  8.762427e+11   2.489599e+10  62.174884\n",
      "...                           ...           ...            ...        ...\n",
      "2022-11-26 08:00:00  16524.449008  3.179199e+11   1.893302e+10  60.203453\n",
      "2022-11-27 08:00:00  16456.156062  3.162069e+11   1.824302e+10  60.027793\n",
      "2022-11-28 08:00:00  16459.149544  3.164877e+11   1.655182e+10  60.119822\n",
      "2022-11-29 08:00:00  16222.210729  3.118110e+11   2.456606e+10  60.169491\n",
      "2022-11-30 08:00:00  16441.979978  3.161709e+11   2.466304e+10  59.848368\n",
      "\n",
      "[334 rows x 4 columns]\n"
     ]
    }
   ],
   "source": [
    "# process data to csv\n",
    "\n",
    "alt_coin_num = len(alt_caps_data)\n",
    "date_num = len(alt_caps_data[0])\n",
    "alt_caps_sum = [0] * date_num\n",
    "\n",
    "for date_idx, coin_idx in itertools.product(range(date_num), range(alt_coin_num)):\n",
    "    alt_caps_sum[date_idx] += alt_caps_data[coin_idx][date_idx]\n",
    "\n",
    "btc_data['BTCD'] = [ btc_data['market_caps'][i] / (alt_caps_sum[i]+btc_data['market_caps'][i]) * 100 for i in range(date_num) ]\n",
    "\n",
    "df = pd.DataFrame(btc_data, index=date_list)\n",
    "# print(df)\n",
    "\n",
    "df.to_csv('Bitcoin_{}_{}_Price_MarketCap_Volume_BTCD.csv'.format(start_date, end_date))"
   ]
  }
 ],
 "metadata": {
  "kernelspec": {
   "display_name": "base",
   "language": "python",
   "name": "python3"
  },
  "language_info": {
   "codemirror_mode": {
    "name": "ipython",
    "version": 3
   },
   "file_extension": ".py",
   "mimetype": "text/x-python",
   "name": "python",
   "nbconvert_exporter": "python",
   "pygments_lexer": "ipython3",
   "version": "3.9.7"
  },
  "orig_nbformat": 4,
  "vscode": {
   "interpreter": {
    "hash": "9c1d5a056f04d97314a9f946bc8c5185004572d3d68312220c0ba298420421f7"
   }
  }
 },
 "nbformat": 4,
 "nbformat_minor": 2
}
