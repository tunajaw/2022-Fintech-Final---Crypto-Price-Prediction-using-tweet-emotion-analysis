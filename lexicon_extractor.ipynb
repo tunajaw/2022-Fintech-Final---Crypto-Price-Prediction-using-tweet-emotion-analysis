{
 "cells": [
  {
   "cell_type": "code",
   "execution_count": 36,
   "metadata": {},
   "outputs": [],
   "source": [
    "import pandas as pd\n",
    "import numpy as np \n",
    "import json"
   ]
  },
  {
   "cell_type": "code",
   "execution_count": 18,
   "metadata": {},
   "outputs": [
    {
     "data": {
      "text/html": [
       "<div>\n",
       "<style scoped>\n",
       "    .dataframe tbody tr th:only-of-type {\n",
       "        vertical-align: middle;\n",
       "    }\n",
       "\n",
       "    .dataframe tbody tr th {\n",
       "        vertical-align: top;\n",
       "    }\n",
       "\n",
       "    .dataframe thead th {\n",
       "        text-align: right;\n",
       "    }\n",
       "</style>\n",
       "<table border=\"1\" class=\"dataframe\">\n",
       "  <thead>\n",
       "    <tr style=\"text-align: right;\">\n",
       "      <th></th>\n",
       "      <th>emotion</th>\n",
       "      <th>lexicon</th>\n",
       "      <th>score</th>\n",
       "    </tr>\n",
       "  </thead>\n",
       "  <tbody>\n",
       "    <tr>\n",
       "      <th>0</th>\n",
       "      <td>anticipation</td>\n",
       "      <td>crae</td>\n",
       "      <td>2.237478</td>\n",
       "    </tr>\n",
       "    <tr>\n",
       "      <th>1</th>\n",
       "      <td>anticipation</td>\n",
       "      <td>#mycolour</td>\n",
       "      <td>2.237478</td>\n",
       "    </tr>\n",
       "    <tr>\n",
       "      <th>2</th>\n",
       "      <td>anticipation</td>\n",
       "      <td>#vigilance</td>\n",
       "      <td>2.237478</td>\n",
       "    </tr>\n",
       "    <tr>\n",
       "      <th>3</th>\n",
       "      <td>anticipation</td>\n",
       "      <td>#vigilant</td>\n",
       "      <td>2.237478</td>\n",
       "    </tr>\n",
       "    <tr>\n",
       "      <th>4</th>\n",
       "      <td>anticipation</td>\n",
       "      <td>#hmmmmm</td>\n",
       "      <td>2.237478</td>\n",
       "    </tr>\n",
       "    <tr>\n",
       "      <th>...</th>\n",
       "      <td>...</td>\n",
       "      <td>...</td>\n",
       "      <td>...</td>\n",
       "    </tr>\n",
       "    <tr>\n",
       "      <th>32380</th>\n",
       "      <td>disgust</td>\n",
       "      <td>sent</td>\n",
       "      <td>0.000658</td>\n",
       "    </tr>\n",
       "    <tr>\n",
       "      <th>32381</th>\n",
       "      <td>disgust</td>\n",
       "      <td>laughing</td>\n",
       "      <td>0.000328</td>\n",
       "    </tr>\n",
       "    <tr>\n",
       "      <th>32382</th>\n",
       "      <td>disgust</td>\n",
       "      <td>status</td>\n",
       "      <td>0.000108</td>\n",
       "    </tr>\n",
       "    <tr>\n",
       "      <th>32383</th>\n",
       "      <td>disgust</td>\n",
       "      <td>ya</td>\n",
       "      <td>0.000018</td>\n",
       "    </tr>\n",
       "    <tr>\n",
       "      <th>32384</th>\n",
       "      <td>disgust</td>\n",
       "      <td>each</td>\n",
       "      <td>0.000003</td>\n",
       "    </tr>\n",
       "  </tbody>\n",
       "</table>\n",
       "<p>32385 rows × 3 columns</p>\n",
       "</div>"
      ],
      "text/plain": [
       "            emotion     lexicon     score\n",
       "0      anticipation        crae  2.237478\n",
       "1      anticipation   #mycolour  2.237478\n",
       "2      anticipation  #vigilance  2.237478\n",
       "3      anticipation   #vigilant  2.237478\n",
       "4      anticipation     #hmmmmm  2.237478\n",
       "...             ...         ...       ...\n",
       "32380       disgust        sent  0.000658\n",
       "32381       disgust    laughing  0.000328\n",
       "32382       disgust      status  0.000108\n",
       "32383       disgust          ya  0.000018\n",
       "32384       disgust        each  0.000003\n",
       "\n",
       "[32385 rows x 3 columns]"
      ]
     },
     "execution_count": 18,
     "metadata": {},
     "output_type": "execute_result"
    }
   ],
   "source": [
    "# convert txt lexicons to dataframe\n",
    "df = pd.read_csv('NRC-Hashtag-Emotion-Lexicon-v0.2.txt', sep='\\t', header=None)\n",
    "df.columns = ['emotion', 'lexicon', 'score']\n",
    "df = df.dropna().reset_index(drop=True)\n",
    "df"
   ]
  },
  {
   "cell_type": "code",
   "execution_count": 33,
   "metadata": {},
   "outputs": [],
   "source": [
    "emotion_dicts = {}\n",
    "for emotion in df['emotion'].unique():\n",
    "    emotion_dicts[emotion] = dict(\n",
    "        zip(\n",
    "            df[df['emotion']==emotion]['lexicon'], \n",
    "            df[df['emotion']==emotion]['score']\n",
    "        )\n",
    "    )"
   ]
  },
  {
   "cell_type": "code",
   "execution_count": 35,
   "metadata": {},
   "outputs": [
    {
     "data": {
      "text/plain": [
       "2.23747809563729"
      ]
     },
     "execution_count": 35,
     "metadata": {},
     "output_type": "execute_result"
    }
   ],
   "source": [
    "emotion_dicts['anticipation']['crae']"
   ]
  },
  {
   "cell_type": "code",
   "execution_count": 41,
   "metadata": {},
   "outputs": [],
   "source": [
    "with open('emotion_dicts.txt', 'w') as f:\n",
    "    f.write(json.dumps(emotion_dicts))"
   ]
  }
 ],
 "metadata": {
  "kernelspec": {
   "display_name": "Python 3",
   "language": "python",
   "name": "python3"
  },
  "language_info": {
   "codemirror_mode": {
    "name": "ipython",
    "version": 3
   },
   "file_extension": ".py",
   "mimetype": "text/x-python",
   "name": "python",
   "nbconvert_exporter": "python",
   "pygments_lexer": "ipython3",
   "version": "3.9.13 (tags/v3.9.13:6de2ca5, May 17 2022, 16:36:42) [MSC v.1929 64 bit (AMD64)]"
  },
  "orig_nbformat": 4,
  "vscode": {
   "interpreter": {
    "hash": "eba57746c2070bb69413183e0ca6d8717682b251202776e3354c8d9d4b177e4d"
   }
  }
 },
 "nbformat": 4,
 "nbformat_minor": 2
}
