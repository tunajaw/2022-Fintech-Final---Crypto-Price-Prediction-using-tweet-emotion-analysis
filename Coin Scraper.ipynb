{
 "cells": [
  {
   "cell_type": "code",
   "execution_count": 1,
   "metadata": {},
   "outputs": [],
   "source": [
    "import urllib.request\n",
    "import ssl\n",
    "import json\n",
    "import time\n",
    "import datetime\n",
    "import pandas as pd\n",
    "import csv\n",
    "\n",
    "ssl._create_default_https_context = ssl._create_unverified_context"
   ]
  },
  {
   "cell_type": "code",
   "execution_count": 2,
   "metadata": {},
   "outputs": [],
   "source": [
    "api_key = '**********************************************************'"
   ]
  },
  {
   "cell_type": "code",
   "execution_count": 3,
   "metadata": {},
   "outputs": [],
   "source": [
    "def getdata(symbol):\n",
    "    url = \"https://api.lunarcrush.com/v2?data=assets&key=\" + api_key + \"&symbol=\"+symbol+\"&time_series_indicators=close,percent_change_24h,volume,market_cap,market_dominance,volatility&data_points=367&start=1577721600&end=1609430400&interval=day\"\n",
    "    asset = json.loads(urllib.request.urlopen(url).read())\n",
    "    \n",
    "    fname=\"E:\\\\project_data\\\\coin_data\\\\\"+symbol+\".csv\"\n",
    "    csvFile = open(fname, \"a\", newline=\"\", encoding='utf-8')\n",
    "    csvWriter = csv.writer(csvFile)\n",
    "    \n",
    "    csvWriter.writerow(['time', 'close_price', 'percent_change_24h','volume_24h', 'market_cap', 'market_dominance','volatility'])\n",
    "    #volume_24h The total value of all transactions in the past 24 hours\n",
    "    #market_cap represents the market value, which is the product of all circulation and the current currency price\n",
    "    #market_dominance The weight of the currency in the entire market value\n",
    "    \n",
    "    for daily in asset['data'][0]['timeSeries']:\n",
    "        \n",
    "        c_time=datetime.datetime.fromtimestamp(daily['time'])\n",
    "        close_price=daily['close']\n",
    "        \n",
    "        if 'percent_change_24h'in daily:\n",
    "            percent_change=daily['percent_change_24h']\n",
    "            \n",
    "        volume=daily['volume']\n",
    "        market_cap=daily['market_cap']\n",
    "        market_dominance=daily['market_dominance']\n",
    "        volatility=daily['volatility']\n",
    "        \n",
    "        if 'percent_change_24h'in daily:\n",
    "            res = [c_time, close_price,percent_change,volume,market_cap,market_dominance,volatility]\n",
    "            csvWriter.writerow(res)\n",
    "        \n",
    "    \n",
    "    csvFile.close()"
   ]
  },
  {
   "cell_type": "code",
   "execution_count": 4,
   "metadata": {},
   "outputs": [],
   "source": [
    "symbol='BTC'\n",
    "getdata(symbol)"
   ]
  },
  {
   "cell_type": "code",
   "execution_count": 6,
   "metadata": {},
   "outputs": [],
   "source": [
    "symbol='DOGE'\n",
    "getdata(symbol)"
   ]
  },
  {
   "cell_type": "code",
   "execution_count": null,
   "metadata": {},
   "outputs": [],
   "source": []
  }
 ],
 "metadata": {
  "kernelspec": {
   "display_name": "Python 3",
   "language": "python",
   "name": "python3"
  },
  "language_info": {
   "codemirror_mode": {
    "name": "ipython",
    "version": 3
   },
   "file_extension": ".py",
   "mimetype": "text/x-python",
   "name": "python",
   "nbconvert_exporter": "python",
   "pygments_lexer": "ipython3",
   "version": "3.8.5"
  }
 },
 "nbformat": 4,
 "nbformat_minor": 4
}
